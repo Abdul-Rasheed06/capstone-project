{
 "cells": [
  {
   "cell_type": "code",
   "execution_count": null,
   "id": "8dc70cf3-38c6-461d-8b8e-6437d2acd817",
   "metadata": {},
   "outputs": [],
   "source": [
    "# Importing necessary imports\n",
    "import os\n",
    "import numpy as np\n",
    "import pandas as pd\n",
    "import seaborn as sns\n",
    "import matplotlib.pyplot as plt\n",
    "import warnings\n",
    "warnings.filterwarnings(\"ignore\")\n",
    "from sklearn.preprocessing import MinMaxScaler\n",
    "from sklearn.model_selection import train_test_split\n",
    "from sklearn.impute import SimpleImputer\n",
    "sns.set()"
   ]
  },
  {
   "cell_type": "code",
   "execution_count": null,
   "id": "f91587b4-7a08-45b0-8bca-90f9e6c6e237",
   "metadata": {},
   "outputs": [],
   "source": [
    "df = pd.read_csv('kidney_disease.csv')"
   ]
  },
  {
   "cell_type": "code",
   "execution_count": null,
   "id": "e3afc2ba-5710-4ddb-9d3e-638f9ae159a7",
   "metadata": {},
   "outputs": [],
   "source": [
    "df.head()"
   ]
  },
  {
   "cell_type": "code",
   "execution_count": null,
   "id": "2f66552b-d660-4b9c-bdf0-d325725a843b",
   "metadata": {},
   "outputs": [],
   "source": [
    "df.shape"
   ]
  },
  {
   "cell_type": "code",
   "execution_count": null,
   "id": "660f5538-b021-4e3d-a6b1-f4d0e23ecfcd",
   "metadata": {},
   "outputs": [],
   "source": [
    "df.columns"
   ]
  },
  {
   "cell_type": "markdown",
   "id": "37cd43bd-c2aa-4cc4-bc05-ebc6017f790d",
   "metadata": {},
   "source": [
    "## Cleaning Part"
   ]
  },
  {
   "cell_type": "code",
   "execution_count": null,
   "id": "97ea55d8-8852-493d-8cf5-07edf779e08b",
   "metadata": {},
   "outputs": [],
   "source": [
    "#Duplicates\n",
    "df.duplicated().sum()"
   ]
  },
  {
   "cell_type": "code",
   "execution_count": null,
   "id": "91bfbee2-6a9b-411d-a129-39322ebb6fd0",
   "metadata": {},
   "outputs": [],
   "source": [
    "# missing value checks\n",
    "df.isnull().sum().sum()"
   ]
  },
  {
   "cell_type": "code",
   "execution_count": null,
   "id": "d5f7eedf-8def-4aca-ac25-ceb2b01fb28a",
   "metadata": {},
   "outputs": [],
   "source": [
    "# missing value checks\n",
    "df.isnull().sum()/len(df)*100"
   ]
  },
  {
   "cell_type": "code",
   "execution_count": null,
   "id": "77a12d22-6b01-417b-b93d-78a0771edc0a",
   "metadata": {},
   "outputs": [],
   "source": [
    "df.info()"
   ]
  },
  {
   "cell_type": "code",
   "execution_count": null,
   "id": "d5a7e33f-7cad-4851-b5da-28ee5b2957d4",
   "metadata": {},
   "outputs": [],
   "source": [
    "df['rc'].mode()"
   ]
  },
  {
   "cell_type": "code",
   "execution_count": null,
   "id": "e743cf32-9f85-4491-8d04-aae4b5306a44",
   "metadata": {},
   "outputs": [],
   "source": [
    "#Finding the unique values in the given colomns\n",
    "for i in df.columns:\n",
    "    print('********************',i,'*********************')\n",
    "    print()\n",
    "    print(set(df[i].tolist()))\n",
    "    print()"
   ]
  },
  {
   "cell_type": "code",
   "execution_count": null,
   "id": "d23fe30c-f7ef-4cb6-8629-a38986f8a8d6",
   "metadata": {},
   "outputs": [],
   "source": [
    "df['pcv'] = df['pcv'].apply(lambda x:'41' if x == '\\t?' else x)\n",
    "df['pcv'] = df['pcv'].apply(lambda x:'43' if x == '\\t43' else x)"
   ]
  },
  {
   "cell_type": "code",
   "execution_count": null,
   "id": "e898873b-9a42-4bbf-9ac7-97db7d62baad",
   "metadata": {},
   "outputs": [],
   "source": [
    "df['pcv'].mode()[0]"
   ]
  },
  {
   "cell_type": "code",
   "execution_count": null,
   "id": "70cd474c-b8ca-4e51-a5ea-0a6878dd250c",
   "metadata": {},
   "outputs": [],
   "source": [
    "df['wc'] = df['wc'].apply(lambda x:'6200' if x == '\\t6200' else x)\n",
    "df['wc'] = df['wc'].apply(lambda x:'8400' if x == '\\t8400' else x)\n",
    "df['wc'] = df['wc'].apply(lambda x:'9800' if x == '\\t?' else x)"
   ]
  },
  {
   "cell_type": "code",
   "execution_count": null,
   "id": "92231617-967b-4b60-bd6f-f7270e18501d",
   "metadata": {},
   "outputs": [],
   "source": [
    "df['wc'].mode()"
   ]
  },
  {
   "cell_type": "code",
   "execution_count": null,
   "id": "3f4e3bb2-7a92-4a53-9c39-7f8b89871db7",
   "metadata": {},
   "outputs": [],
   "source": [
    "df['rc'] = df['rc'].apply(lambda x:'5.2' if x == '\\t?' else x)"
   ]
  },
  {
   "cell_type": "code",
   "execution_count": null,
   "id": "5699250c-e133-494d-8a29-5e17d4a3b31a",
   "metadata": {},
   "outputs": [],
   "source": [
    "df['classification'] = df['classification'].apply(lambda x:'ckd' if x == 'ckd\\t' else x)"
   ]
  },
  {
   "cell_type": "code",
   "execution_count": null,
   "id": "aff4986e-256f-4db9-bafb-778c39aaccdb",
   "metadata": {},
   "outputs": [],
   "source": [
    "df['cad'] = df['cad'].apply(lambda x:'no' if x == '\\tno' else x)"
   ]
  },
  {
   "cell_type": "code",
   "execution_count": null,
   "id": "30d39a27-d6d3-46a0-82ec-911f43ad1f6b",
   "metadata": {},
   "outputs": [],
   "source": [
    "df['dm'] = df['dm'].apply(lambda x:'yes' if x == '\\tyes' else x)\n",
    "df['dm'] = df['dm'].apply(lambda x:'no' if x == '\\tno' else x)\n",
    "df['dm'] = df['dm'].apply(lambda x:'yes' if x == ' yes' else x)\n"
   ]
  },
  {
   "cell_type": "code",
   "execution_count": null,
   "id": "2b881e43-ea8a-47be-ab79-2939d449b349",
   "metadata": {},
   "outputs": [],
   "source": [
    "df['dm'] = df['dm'].apply(lambda x:'yes' if x == '\\tyes' else x)\n"
   ]
  },
  {
   "cell_type": "code",
   "execution_count": null,
   "id": "f7d0e628-1a27-48fa-a182-d0fe4e537958",
   "metadata": {},
   "outputs": [],
   "source": [
    "print(df['pcv'].mode()[0])\n",
    "print()\n",
    "print(df['wc'].mode()[0])\n",
    "print()\n",
    "print(df['rc'].mode()[0])"
   ]
  },
  {
   "cell_type": "code",
   "execution_count": null,
   "id": "c809cab1-9639-462a-84e9-60062bb328dc",
   "metadata": {},
   "outputs": [],
   "source": [
    "df['pcv'] = df['pcv'].fillna(df['pcv'].mode()[0])\n",
    "df['wc'] = df['wc'].fillna(df['wc'].mode()[0])\n",
    "df['rc'] = df['rc'].fillna(df['rc'].mode()[0])"
   ]
  },
  {
   "cell_type": "code",
   "execution_count": null,
   "id": "e0d0adbe-c6b5-4646-ab33-13fe195bd144",
   "metadata": {},
   "outputs": [],
   "source": [
    "df['pcv'] = df['pcv'].astype('int64')\n",
    "df['rc'] = df['rc'].astype('float64')\n",
    "df['wc'] = df['wc'].astype('int64')"
   ]
  },
  {
   "cell_type": "code",
   "execution_count": null,
   "id": "398565a0-2067-4e6f-9dea-9d2281d6501f",
   "metadata": {},
   "outputs": [],
   "source": [
    "df.dtypes"
   ]
  },
  {
   "cell_type": "code",
   "execution_count": null,
   "id": "2022ca36-9656-4f50-a204-1c95b6a014b4",
   "metadata": {},
   "outputs": [],
   "source": [
    "Object_Columns = df.select_dtypes(include=['object']).columns\n",
    "print(\"Object type Columns :\")\n",
    "print(Object_Columns)\n",
    "\n",
    "\n",
    "Numerical_columns = df.select_dtypes(include=['int64','float64']).columns\n",
    "print(\"\\nNumerical type columns\")\n",
    "print(Numerical_columns)"
   ]
  },
  {
   "cell_type": "code",
   "execution_count": null,
   "id": "38c25d1e-64b5-4d7c-a8a4-a0eb8edd64f4",
   "metadata": {},
   "outputs": [],
   "source": [
    "\n",
    "# Imputers\n",
    "imp_mode1 = SimpleImputer(missing_values=np.nan, strategy='most_frequent')  # Most frequent - Mode Opration\n",
    "imp_mode2 = SimpleImputer(missing_values=np.nan, strategy='median')\n",
    "\n",
    "# Impute categorical columns\n",
    "df_imp1 = pd.DataFrame(imp_mode1.fit_transform(df[Object_Columns]))\n",
    "df_imp1.columns = df[Object_Columns].columns\n",
    "\n",
    "# Impute numerical columns\n",
    "df_imp2 = pd.DataFrame(imp_mode2.fit_transform(df[Numerical_columns]))\n",
    "df_imp2.columns = df[Numerical_columns].columns"
   ]
  },
  {
   "cell_type": "code",
   "execution_count": null,
   "id": "9593e386-f124-45b1-a21d-07b64dbabcb7",
   "metadata": {},
   "outputs": [],
   "source": [
    "print(df_imp1.isnull().sum().sum())\n",
    "print()\n",
    "print(df_imp2.isnull().sum().sum())"
   ]
  },
  {
   "cell_type": "code",
   "execution_count": null,
   "id": "df6b568e-4eb9-4f2d-a1fb-52f74f8bc6b7",
   "metadata": {},
   "outputs": [],
   "source": [
    "df_imp1"
   ]
  },
  {
   "cell_type": "code",
   "execution_count": null,
   "id": "76cc7b20-858d-48b7-be4e-00590cdb7115",
   "metadata": {},
   "outputs": [],
   "source": [
    "df_imp2"
   ]
  },
  {
   "cell_type": "code",
   "execution_count": null,
   "id": "de13d769-5e14-4bb6-aec9-bc03c5ff663d",
   "metadata": {},
   "outputs": [],
   "source": [
    "# Id is a not valuable column saw drop it \n",
    "df_imp2.drop(columns=['id'], inplace=True)"
   ]
  },
  {
   "cell_type": "code",
   "execution_count": null,
   "id": "a1b134cf-d101-4235-9f1f-0665fec87537",
   "metadata": {},
   "outputs": [],
   "source": [
    "# Checking Outlier\n",
    "def displot(col):\n",
    "    sns.displot(df_imp2[col])\n",
    "    plt.show()\n",
    "for i in list(df_imp2.select_dtypes(exclude=['object']).columns)[0:]:\n",
    "    displot(i)"
   ]
  },
  {
   "cell_type": "code",
   "execution_count": null,
   "id": "1abe4fc0-b118-4711-907b-17354ed58c33",
   "metadata": {},
   "outputs": [],
   "source": [
    "# Checking Outlier\n",
    "def boxplot(col):\n",
    "    sns.boxplot(df_imp2[col])\n",
    "    plt.show()\n",
    "for i in list(df_imp2.select_dtypes(exclude=['object']).columns)[0:]:\n",
    "    boxplot(i)"
   ]
  },
  {
   "cell_type": "code",
   "execution_count": null,
   "id": "141dac5d-d59a-468d-ad04-d5af0af5ddb9",
   "metadata": {},
   "outputs": [],
   "source": [
    "df_imp1.columns"
   ]
  },
  {
   "cell_type": "code",
   "execution_count": null,
   "id": "1d8d77a1-42ae-4992-8f82-2b40a7838504",
   "metadata": {},
   "outputs": [],
   "source": [
    "df_imp2.columns"
   ]
  },
  {
   "cell_type": "code",
   "execution_count": null,
   "id": "beffc6c2-4742-4fac-987a-79adf7652179",
   "metadata": {},
   "outputs": [],
   "source": [
    "table_merge = pd.concat([df_imp1,df_imp2], axis=1)"
   ]
  },
  {
   "cell_type": "code",
   "execution_count": null,
   "id": "a81038be-877d-4272-be59-c0ff088e25d0",
   "metadata": {},
   "outputs": [],
   "source": [
    "table_merge"
   ]
  },
  {
   "cell_type": "code",
   "execution_count": null,
   "id": "e466cc56-0311-4d76-a5ec-3763f099f27e",
   "metadata": {},
   "outputs": [],
   "source": [
    "#split the data into independent variables\n",
    "x = table_merge.drop('classification', axis=1)\n",
    "y=table_merge['classification']"
   ]
  },
  {
   "cell_type": "code",
   "execution_count": null,
   "id": "0a1eb979-a2f9-4257-a01a-e880af3073c4",
   "metadata": {},
   "outputs": [],
   "source": [
    "x.columns"
   ]
  },
  {
   "cell_type": "code",
   "execution_count": null,
   "id": "a4c17143-8418-42e0-968c-202d4a25a24c",
   "metadata": {},
   "outputs": [],
   "source": [
    "y = np.where(y=='ckd', 1,0)"
   ]
  },
  {
   "cell_type": "code",
   "execution_count": null,
   "id": "3bd1fade-e581-4a4c-b80e-cc0af7619c04",
   "metadata": {},
   "outputs": [],
   "source": [
    "pd.DataFrame(y).value_counts()"
   ]
  },
  {
   "cell_type": "code",
   "execution_count": null,
   "id": "64ff8588-47b7-488a-83cf-b9d9ec7fb9f9",
   "metadata": {},
   "outputs": [],
   "source": [
    "# Handling Encoding concept\n",
    "def classify_features(x):\n",
    "    categorical_features = []\n",
    "    non_categorical_features = []\n",
    "    descrete_features = []\n",
    "    contionus_features = []\n",
    "    for column in x.columns:\n",
    "        if x [column].dtype == 'object':\n",
    "                if x[column].nunique() < 10:\n",
    "                    categorical_features.append(column)\n",
    "                else:\n",
    "                    non_categorical_features.append(column)\n",
    "        elif x[column].dtype in ['int64','float64']:\n",
    "                if x[column].nunique() < 10:\n",
    "                    descrete_features.append(column)\n",
    "                else:\n",
    "                    contionus_features.append(column)\n",
    "    return categorical_features, non_categorical_features, descrete_features, contionus_features\n",
    "                "
   ]
  },
  {
   "cell_type": "code",
   "execution_count": null,
   "id": "b1ea99a6-1b09-4d19-acd6-e7a0e4cfe69a",
   "metadata": {},
   "outputs": [],
   "source": [
    "categorical, non_categorical,descrete,contionus = classify_features(x)"
   ]
  },
  {
   "cell_type": "code",
   "execution_count": null,
   "id": "28eb55fb-0357-4c89-bb37-079709c059d7",
   "metadata": {},
   "outputs": [],
   "source": [
    "categorical"
   ]
  },
  {
   "cell_type": "code",
   "execution_count": null,
   "id": "31e05b33-ff1d-4a20-98b4-902e7e69b60d",
   "metadata": {},
   "outputs": [],
   "source": [
    "non_categorical"
   ]
  },
  {
   "cell_type": "code",
   "execution_count": null,
   "id": "b0d28983-4d49-4cdb-87a7-7a12af1ece24",
   "metadata": {},
   "outputs": [],
   "source": [
    "descrete"
   ]
  },
  {
   "cell_type": "code",
   "execution_count": null,
   "id": "1478a442-ae43-48b3-905a-061a56cb7d2c",
   "metadata": {},
   "outputs": [],
   "source": [
    "contionus"
   ]
  },
  {
   "cell_type": "markdown",
   "id": "5708f06a-d85d-4040-b771-54eeb15cc1de",
   "metadata": {},
   "source": [
    "- Nominal Data → One-hot encoding is best because there’s no order.\r\n",
    "- Ordinal Data → Label encoding works well because values have a ranking.\r\n"
   ]
  },
  {
   "cell_type": "code",
   "execution_count": null,
   "id": "318fa47a-c940-455c-ad1d-898b36d65650",
   "metadata": {},
   "outputs": [],
   "source": [
    "!pip install dtale"
   ]
  },
  {
   "cell_type": "code",
   "execution_count": null,
   "id": "a57f5599-0773-4ae8-b8af-77c9a97c813a",
   "metadata": {},
   "outputs": [],
   "source": [
    "import sys\n",
    "print(sys.path)"
   ]
  },
  {
   "cell_type": "code",
   "execution_count": null,
   "id": "f2948496-08bb-4b02-b437-9b0d33b56aa0",
   "metadata": {},
   "outputs": [],
   "source": [
    "pip show dtale"
   ]
  },
  {
   "cell_type": "markdown",
   "id": "6293ac15-0aa9-43a8-8edc-d9ffd5e04af2",
   "metadata": {},
   "source": [
    "# EDA"
   ]
  },
  {
   "cell_type": "code",
   "execution_count": null,
   "id": "c157d4a0-d1e9-48ce-9f51-a2414ec0abab",
   "metadata": {},
   "outputs": [],
   "source": [
    "import dtale\n",
    "dtale.show(df)"
   ]
  },
  {
   "cell_type": "code",
   "execution_count": null,
   "id": "2eb131fc-308d-47ca-8c11-47ce1b93396b",
   "metadata": {},
   "outputs": [],
   "source": [
    "for i in categorical:\n",
    "    print(x[i].value_counts())\n",
    "    print()"
   ]
  },
  {
   "cell_type": "code",
   "execution_count": null,
   "id": "285c1041-8da8-4f2e-8b12-6332fb8493a5",
   "metadata": {},
   "outputs": [],
   "source": [
    " df_dummies = pd.get_dummies(x[categorical], drop_first=True)"
   ]
  },
  {
   "cell_type": "code",
   "execution_count": null,
   "id": "4c8694e0-09ef-4447-b91b-1cbb19066fb3",
   "metadata": {},
   "outputs": [],
   "source": [
    "x[categorical]"
   ]
  },
  {
   "cell_type": "code",
   "execution_count": null,
   "id": "63431a7e-fc59-4b8c-8b81-655b6f3efaad",
   "metadata": {},
   "outputs": [],
   "source": [
    "df_dummies"
   ]
  },
  {
   "cell_type": "code",
   "execution_count": null,
   "id": "eb0905f2-a936-4f8f-a5f3-53a6271f6564",
   "metadata": {},
   "outputs": [],
   "source": [
    "df_dummies1 = np.where(df_dummies[0:]==True,1,0)\n",
    "df_dummies1  "
   ]
  },
  {
   "cell_type": "code",
   "execution_count": null,
   "id": "ce953cb5-a63f-4cff-831b-d751919f782d",
   "metadata": {},
   "outputs": [],
   "source": [
    "df_dummies = pd.DataFrame(df_dummies)  # Ensure it's a DataFrame\n",
    "df_dummies1 = pd.DataFrame(df_dummies1, columns=df_dummies.columns)"
   ]
  },
  {
   "cell_type": "code",
   "execution_count": null,
   "id": "5af53436-2867-4ca7-9e94-314e700b47a7",
   "metadata": {},
   "outputs": [],
   "source": [
    "df_imp1 = pd.concat([x.drop(columns=categorical), df_dummies1], axis=1)"
   ]
  },
  {
   "cell_type": "code",
   "execution_count": null,
   "id": "305be481-e19a-4918-a889-9a00c43b3117",
   "metadata": {},
   "outputs": [],
   "source": [
    "df_imp1.head()"
   ]
  },
  {
   "cell_type": "code",
   "execution_count": null,
   "id": "87ba4a0a-132f-47e9-beab-6f2aa7d034e8",
   "metadata": {},
   "outputs": [],
   "source": [
    "df_imp1.describe()"
   ]
  },
  {
   "cell_type": "markdown",
   "id": "915ce593-0cd4-4048-b7e8-9d56aed4e7be",
   "metadata": {},
   "source": [
    "# Preprocessing Part\n",
    "1. Part 1 - Missing Vlalues Treatment done\n",
    "2. part 2 - encoding part done (char Variable)\n",
    "3. part 3 - Outlier Part (Numerical Variable)\n",
    "4. Part 4 - Feature scaling (normalization or standerdization) - Depends basis the result\n",
    "5. Part 5 - Imabalance Treatment(this is only application with classification problem)"
   ]
  },
  {
   "cell_type": "code",
   "execution_count": null,
   "id": "6a570e90-25d5-4599-8a10-0c00d1857648",
   "metadata": {},
   "outputs": [],
   "source": [
    "pd.DataFrame(y).value_counts(normalize=True)"
   ]
  },
  {
   "cell_type": "markdown",
   "id": "2ed87c8f-f696-446d-8343-1d18ef56fc52",
   "metadata": {},
   "source": [
    "# Split the data into train and test"
   ]
  },
  {
   "cell_type": "code",
   "execution_count": null,
   "id": "d05a7031-3a98-4f1b-b0c6-94af85e00a4a",
   "metadata": {},
   "outputs": [],
   "source": [
    "from sklearn.model_selection import train_test_split\n",
    "x_train, x_test, y_train, y_test = train_test_split(df_imp1, y, test_size=0.2, random_state=42, stratify=y)\n"
   ]
  },
  {
   "cell_type": "code",
   "execution_count": null,
   "id": "399a2629-0ee7-4842-9c6f-e539cc62e95c",
   "metadata": {},
   "outputs": [],
   "source": [
    "pd.DataFrame(y_train).value_counts()"
   ]
  },
  {
   "cell_type": "code",
   "execution_count": null,
   "id": "43a94a4d-c482-44e6-974e-0be223316cf9",
   "metadata": {},
   "outputs": [],
   "source": [
    "pd.DataFrame(y_test).value_counts()"
   ]
  },
  {
   "cell_type": "markdown",
   "id": "d7d7b785-a7f4-4718-8888-2a592c9951b7",
   "metadata": {},
   "source": [
    "# Building Machine Learning (Traditional Algorithm)"
   ]
  },
  {
   "cell_type": "code",
   "execution_count": null,
   "id": "081f90d6-cdb1-4b2b-be76-a21496011b89",
   "metadata": {},
   "outputs": [],
   "source": [
    "from sklearn.linear_model import LogisticRegression\n",
    "from sklearn.tree import DecisionTreeClassifier\n",
    "from sklearn.ensemble import RandomForestClassifier,VotingClassifier\n",
    "from xgboost import XGBClassifier\n",
    "from sklearn.neighbors import KNeighborsClassifier\n",
    "from sklearn.svm import SVC\n",
    "from sklearn.naive_bayes import GaussianNB\n",
    "#Evaluation Matrics \n",
    "from sklearn.metrics import confusion_matrix, classification_report, accuracy_score"
   ]
  },
  {
   "cell_type": "code",
   "execution_count": null,
   "id": "23f4c1eb-8c7d-4ed5-b0df-1fb26dcfbfa0",
   "metadata": {},
   "outputs": [],
   "source": [
    "from sklearn.linear_model import LogisticRegression\n",
    "from sklearn.tree import DecisionTreeClassifier\n",
    "from sklearn.ensemble import RandomForestClassifier, VotingClassifier\n",
    "from xgboost import XGBClassifier\n",
    "from sklearn.neighbors import KNeighborsClassifier\n",
    "from sklearn.svm import SVC\n",
    "from sklearn.naive_bayes import GaussianNB\n",
    "from sklearn.metrics import accuracy_score\n",
    "import seaborn as sns\n",
    "import pandas as pd\n",
    "\n",
    "list1 = []\n",
    "list2 = []\n",
    "list3 = []\n",
    "\n",
    "# Logistic Regression\n",
    "logit = LogisticRegression()\n",
    "logit.fit(x_train, y_train)\n",
    "y_pred_lr = logit.predict(x_test)\n",
    "accuracy_lr = accuracy_score(y_test, y_pred_lr)\n",
    "\n",
    "# Decision Tree\n",
    "dtree = DecisionTreeClassifier()\n",
    "dtree.fit(x_train, y_train)\n",
    "y_pred_dt = dtree.predict(x_test)\n",
    "accuracy_dt = accuracy_score(y_test, y_pred_dt)\n",
    "\n",
    "# Random Forest\n",
    "rforest = RandomForestClassifier()\n",
    "rforest.fit(x_train, y_train)\n",
    "y_pred_rf = rforest.predict(x_test)\n",
    "accuracy_rf = accuracy_score(y_test, y_pred_rf)\n",
    "\n",
    "# XGBoost\n",
    "xgboost = XGBClassifier(use_label_encoder=False, eval_metric='logloss')\n",
    "xgboost.fit(x_train, y_train)\n",
    "y_pred_xg = xgboost.predict(x_test)\n",
    "accuracy_xg = accuracy_score(y_test, y_pred_xg)\n",
    "\n",
    "# KNN\n",
    "knn = KNeighborsClassifier()\n",
    "knn.fit(x_train, y_train)\n",
    "y_pred_knn = knn.predict(x_test)\n",
    "accuracy_knn = accuracy_score(y_test, y_pred_knn)\n",
    "\n",
    "# SVM\n",
    "svm = SVC()\n",
    "svm.fit(x_train, y_train)\n",
    "y_pred_svm = svm.predict(x_test)\n",
    "accuracy_svm = accuracy_score(y_test, y_pred_svm)\n",
    "\n",
    "# Naive Bayes\n",
    "nbt = GaussianNB()\n",
    "nbt.fit(x_train, y_train)\n",
    "y_pred_nbt = nbt.predict(x_test)\n",
    "accuracy_nbt = accuracy_score(y_test, y_pred_nbt)\n",
    "\n",
    "# Voting Classifier\n",
    "model_evc = VotingClassifier(estimators=[\n",
    "    ('logit', logit),\n",
    "    ('dtree', dtree),\n",
    "    ('rforest', rforest),\n",
    "    ('xgboost', xgboost),\n",
    "    ('knn', knn),\n",
    "    ('svm', svm),\n",
    "    ('nbt', nbt)\n",
    "], voting='hard')\n",
    "model_evc.fit(x_train, y_train)\n",
    "pred_evc = model_evc.predict(x_test)\n",
    "accuracy_evc = accuracy_score(y_test, pred_evc)\n",
    "\n",
    "# Collecting results\n",
    "list1 = ['Logistic Regression', 'Decision Tree', 'Random Forest', 'XGBoost', 'KNN', 'SVM', 'Naive Bayes', 'Voting']\n",
    "list2 = [accuracy_lr, accuracy_dt, accuracy_rf, accuracy_xg, accuracy_knn, accuracy_svm, accuracy_nbt, accuracy_evc]\n",
    "\n",
    "df_accuracy = pd.DataFrame({\"Method Used\": list1, \"Accuracy\": list2})\n",
    "\n",
    "# Plotting\n",
    "import matplotlib.pyplot as plt\n",
    "sns.set(style=\"whitegrid\")\n",
    "chart = sns.barplot(x=\"Method Used\", y=\"Accuracy\", data=df_accuracy)\n",
    "chart.set_xticklabels(chart.get_xticklabels(), rotation=90)\n",
    "plt.title(\"Model Accuracy Comparison\")\n",
    "plt.ylim(0, 1)\n",
    "plt.show()\n",
    "\n",
    "print(df_accuracy)\n"
   ]
  },
  {
   "cell_type": "code",
   "execution_count": null,
   "id": "8cffceb7-3b42-4891-b626-0d4a266e0813",
   "metadata": {},
   "outputs": [],
   "source": []
  }
 ],
 "metadata": {
  "kernelspec": {
   "display_name": "Python 3 (ipykernel)",
   "language": "python",
   "name": "python3"
  },
  "language_info": {
   "codemirror_mode": {
    "name": "ipython",
    "version": 3
   },
   "file_extension": ".py",
   "mimetype": "text/x-python",
   "name": "python",
   "nbconvert_exporter": "python",
   "pygments_lexer": "ipython3",
   "version": "3.12.4"
  }
 },
 "nbformat": 4,
 "nbformat_minor": 5
}
